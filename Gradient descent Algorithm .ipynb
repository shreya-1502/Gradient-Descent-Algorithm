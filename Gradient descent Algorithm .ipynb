{
 "cells": [
  {
   "cell_type": "markdown",
   "id": "81bcfb5f",
   "metadata": {},
   "source": [
    "## Importing Libaries "
   ]
  },
  {
   "cell_type": "code",
   "execution_count": 2,
   "id": "ab4bf2ec",
   "metadata": {},
   "outputs": [],
   "source": [
    "import numpy as np \n",
    "import matplotlib.pyplot as plt\n",
    "import seaborn as sns\n",
    "sns.set()\n",
    "\n",
    "from sklearn.preprocessing import StandardScaler\n",
    "from sklearn.linear_model import LinearRegression\n",
    "from sklearn.model_selection import train_test_split\n",
    "\n",
    "from sklearn import metrics\n",
    "from sklearn. metrics import confusion_matrix, accuracy_score\n",
    "from sklearn.svm import SVC\n",
    "from sklearn.linear_model import LinearRegression\n",
    "\n",
    "import pandas as pd"
   ]
  },
  {
   "cell_type": "markdown",
   "id": "aef1ffe7",
   "metadata": {},
   "source": [
    "## Creating a random dataset of 50 points."
   ]
  },
  {
   "cell_type": "code",
   "execution_count": 3,
   "id": "1ad36038",
   "metadata": {},
   "outputs": [
    {
     "data": {
      "text/plain": [
       "array([20, 48, 72, 56, 84, 92, 24, 41, 14, 80, 16, 36, 94, 60, 43, 30, 61,\n",
       "       94, 38, 84,  5, 62, 91, 49, 54, 11, 44, 18, 61, 19,  4, 16,  5,  7,\n",
       "       86, 11, 81, 24, 45, 49,  6, 14, 76, 77, 72, 39, 31, 67,  3,  9])"
      ]
     },
     "execution_count": 3,
     "metadata": {},
     "output_type": "execute_result"
    }
   ],
   "source": [
    "x = np.random.randint(1,100, size=50)\n",
    "x"
   ]
  },
  {
   "cell_type": "code",
   "execution_count": 4,
   "id": "971c6357",
   "metadata": {},
   "outputs": [
    {
     "data": {
      "text/plain": [
       "array([1027, 2450, 3679, 2843, 4212, 4701, 1259, 2139,  773, 4099,  899,\n",
       "       1872, 4739, 3031, 2183, 1562, 3146, 4726, 1928, 4290,  302, 3204,\n",
       "       4604, 2457, 2708,  580, 2290,  981, 3071, 1017,  226,  834,  261,\n",
       "        415, 4355,  597, 4091, 1283, 2257, 2472,  368,  787, 3812, 3953,\n",
       "       3653, 2029, 1600, 3402,  181,  492])"
      ]
     },
     "execution_count": 4,
     "metadata": {},
     "output_type": "execute_result"
    }
   ],
   "source": [
    "y = 6 + 50*x + np.random.randint(1,100, size=50)\n",
    "y"
   ]
  },
  {
   "cell_type": "markdown",
   "id": "5ccc31ac",
   "metadata": {},
   "source": [
    "## Plot the graph along with the fitted line using matplotlib "
   ]
  },
  {
   "cell_type": "code",
   "execution_count": 5,
   "id": "905ee5d4",
   "metadata": {},
   "outputs": [
    {
     "data": {
      "image/png": "[encoded data removed]",
      "text/plain": [
       "<Figure size 432x288 with 1 Axes>"
      ]
     },
     "metadata": {},
     "output_type": "display_data"
    }
   ],
   "source": [
    "plt.scatter(x,y)\n",
    "plt.show()"
   ]
  },
  {
   "cell_type": "markdown",
   "id": "695a7084",
   "metadata": {},
   "source": [
    "## 1. Estimate θ coefficients using GD"
   ]
  },
  {
   "cell_type": "code",
   "execution_count": 7,
   "id": "62a2aea7",
   "metadata": {},
   "outputs": [
    {
     "name": "stdout",
     "output_type": "stream",
     "text": [
      "50.80767945728097 3.7230178130990037\n"
     ]
    }
   ],
   "source": [
    "#building the model\n",
    "m = 0\n",
    "c = 0\n",
    "\n",
    "L = 0.0001   # the learning rate\n",
    "epochs = 1000  # The number of iterations to perform gradient descent\n",
    "\n",
    "n = float(len(x))   # Number of elements in X\n",
    "\n",
    "# Performing Gradient Descent \n",
    "for i in range(epochs):\n",
    "    Y_pred = m*x + c     # the current predicted value of Y \n",
    "    D_m = (-2/n) * sum(x * (y - Y_pred))   # Derivative wrt m \n",
    "    D_c = (-2/n) * sum(y - Y_pred)     # Derivative wrt c \n",
    "    m = m - L * D_m   # Update m\n",
    "    c  = c - L * D_c  # Update c\n",
    "\n",
    "print(m,c)"
   ]
  },
  {
   "cell_type": "markdown",
   "id": "084b3b36",
   "metadata": {},
   "source": [
    "## 2. Display the fitted linear equation."
   ]
  },
  {
   "cell_type": "code",
   "execution_count": 8,
   "id": "c22f8c54",
   "metadata": {},
   "outputs": [],
   "source": [
    "# making predictions\n",
    "Y_pred = m*x + c"
   ]
  },
  {
   "cell_type": "markdown",
   "id": "36016158",
   "metadata": {},
   "source": [
    "## 3. Plot graph along with the fitted line using Matplotlib"
   ]
  },
  {
   "cell_type": "code",
   "execution_count": 9,
   "id": "1910d963",
   "metadata": {},
   "outputs": [
    {
     "data": {
      "image/png": "[encoded data removed]",
      "text/plain": [
       "<Figure size 432x288 with 1 Axes>"
      ]
     },
     "metadata": {},
     "output_type": "display_data"
    }
   ],
   "source": [
    "plt.scatter(x,y)\n",
    "plt.plot([min(x), max(x)], [min(Y_pred), max(Y_pred)], color='red')\n",
    "plt.show()"
   ]
  }
 ],
 "metadata": {
  "kernelspec": {
   "display_name": "Python 3 (ipykernel)",
   "language": "python",
   "name": "python3"
  },
  "language_info": {
   "codemirror_mode": {
    "name": "ipython",
    "version": 3
   },
   "file_extension": ".py",
   "mimetype": "text/x-python",
   "name": "python",
   "nbconvert_exporter": "python",
   "pygments_lexer": "ipython3",
   "version": "3.9.12"
  }
 },
 "nbformat": 4,
 "nbformat_minor": 5
}
